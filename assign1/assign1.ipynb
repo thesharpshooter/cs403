{
 "cells": [
  {
   "cell_type": "code",
   "execution_count": 9,
   "metadata": {
    "collapsed": false,
    "deletable": true,
    "editable": true
   },
   "outputs": [],
   "source": [
    "import numpy as np\n",
    "import matplotlib.pyplot as plt\n",
    "%matplotlib inline\n"
   ]
  },
  {
   "cell_type": "code",
   "execution_count": 10,
   "metadata": {
    "collapsed": false,
    "deletable": true,
    "editable": true,
    "scrolled": false
   },
   "outputs": [],
   "source": [
    "\n",
    "data_train = np.genfromtxt('data/train.csv', delimiter=',',skip_header=1)\n",
    "data_test = np.genfromtxt('data/test.csv', delimiter=',',skip_header=1)\n",
    "header = ['ID','CRIM','ZN','INDUS','CHAS','NOX','RM','AGE','DIS','RAD','TAX','PTRATIO','B','LSTAT','MEDV']\n",
    "for i in range(1,14):\n",
    "    mean = data_train[:,i].mean()\n",
    "    std = data_train[:,i].std()\n",
    "    data_train[:,i] = (data_train[:,i] - mean)/std\n",
    "for i in range(1,14):\n",
    "    mean = data_test[:,i].mean()\n",
    "    std = data_test[:,i].std()\n",
    "    data_test[:,i] = (data_test[:,i] - mean)/std\n",
    "\n",
    "\n",
    "    \n",
    "\n",
    "\n",
    "\n"
   ]
  },
  {
   "cell_type": "code",
   "execution_count": 11,
   "metadata": {
    "collapsed": false,
    "deletable": true,
    "editable": true
   },
   "outputs": [
    {
     "name": "stdout",
     "output_type": "stream",
     "text": [
      "[[-0.30636564 -0.48182192 -0.40886535 -0.27958383 -0.12845535 -0.34577252\n",
      "   0.73061694  0.29765467 -0.62956602 -0.57126337  1.1843845  -0.61270683\n",
      "   0.64065772]\n",
      " [-0.4077453   0.7479879   0.59998377 -0.27958383 -0.77001683 -0.1144724\n",
      "  -1.38215485 -0.07210225 -0.62956602 -0.78962381 -0.12072239  0.42568394\n",
      "  -0.89726257]\n",
      " [-0.27707773 -0.48182192  1.26377725 -0.27958383  0.45241789  0.91791592\n",
      "   1.03395313 -0.91190824 -0.51431366 -0.00470655 -1.752106    0.04588342\n",
      "  -1.12232408]\n",
      " [ 0.20878936 -0.48182192  1.04738642 -0.27958383  1.62283411 -0.10318947\n",
      "   1.12565942 -0.85204284  1.67548119  1.54742306  0.81149682  0.41829572\n",
      "   0.54479819]\n",
      " [-0.40592007 -0.48182192 -1.12529443 -0.27958383 -0.80469583 -0.20896696\n",
      "  -1.26575841  0.96448486 -0.62956602  0.15463755 -0.72666487  0.10522004\n",
      "  -0.49715323]]\n",
      "(400, 27)\n"
     ]
    }
   ],
   "source": [
    "X = data_train[:,1:-1]\n",
    "print X[0:5,:]\n",
    "X2 = X**2\n",
    "Y = data_train[:,-1]\n",
    "ones = np.array([1]*400)\n",
    "H_TRAIN = np.c_[ones,X,X2]\n",
    "\n",
    "print H_TRAIN.shape"
   ]
  },
  {
   "cell_type": "code",
   "execution_count": 12,
   "metadata": {
    "collapsed": false,
    "deletable": true,
    "editable": true
   },
   "outputs": [],
   "source": [
    "W = np.array([0.0]*27)\n",
    "STEP = 6e-5\n",
    "LAMBDA = 0.001\n",
    "iterations = 10000\n",
    "\n"
   ]
  },
  {
   "cell_type": "code",
   "execution_count": 13,
   "metadata": {
    "collapsed": false,
    "deletable": true,
    "editable": true
   },
   "outputs": [],
   "source": [
    "def ridge_regression(x,y,step,l2,iterations,w,p1,p2):\n",
    "    H = x\n",
    "    Y = y\n",
    "    STEP = step\n",
    "    LAMBDA = l2\n",
    "    N = iterations\n",
    "    W = w\n",
    "    W1 = w\n",
    "    W2 = w\n",
    "    P1 = p1\n",
    "    P2 = p2\n",
    "    \n",
    "    OUTPUT = H.dot(W)\n",
    "    OUTPUT1 = H.dot(W1)\n",
    "    OUTPUT2 = H.dot(W2)\n",
    "    ERROR = Y-OUTPUT\n",
    "    ERROR1 = Y-OUTPUT1\n",
    "    ERROR2 = Y-OUTPUT2\n",
    "    GRADIANT = -2*(H.transpose().dot(ERROR))\n",
    "    GRADIANT1 = -2*(H.transpose().dot(ERROR1))\n",
    "    GRADIANT2 = -2*(H.transpose().dot(ERROR2))\n",
    "    MAG = np.math.sqrt((GRADIANT**2).sum())\n",
    "    MAG1 = np.math.sqrt((GRADIANT1**2).sum())\n",
    "    MAG2 = np.math.sqrt((GRADIANT2**2).sum())\n",
    "    \n",
    "    print \"GRADIANT : \",GRADIANT,\"GRADIANT1 : \",GRADIANT1,\"GRADIANT2 : \",GRADIANT2\n",
    "    print \"MAG :\",MAG,\"MAG1 :\",MAG1,\"MAG2 :\",MAG2\n",
    "   \n",
    "    for i in range(iterations):\n",
    "        W[0] = W[0] - STEP*GRADIANT[0]\n",
    "        W[1:] = (1-2*STEP*LAMBDA)*W[1:] - STEP*GRADIANT[1:]\n",
    "        \n",
    "        W1[0] = W1[0] - STEP*GRADIANT1[0]\n",
    "        W1[1:] = W1[1:] - LAMBDA*np.sign(W1[1:])*np.power(W1[1:],P1-1) - STEP*GRADIANT1[1:]\n",
    "        \n",
    "        W2[0] = W2[0] - STEP*GRADIANT2[0]\n",
    "        W2[1:] = W2[1:] - LAMBDA*np.sign(W2[1:])*np.power(W2[1:],P2-1) - STEP*GRADIANT2[1:]\n",
    "        \n",
    "        OUTPUT = H.dot(W)\n",
    "        OUTPUT1 = H.dot(W1)\n",
    "        OUTPUT2 = H.dot(W2)\n",
    "        ERROR = Y-OUTPUT\n",
    "        ERROR1 = Y-OUTPUT1\n",
    "        ERROR2 = Y-OUTPUT2\n",
    "        GRADIANT = -2*(H.transpose().dot(ERROR))\n",
    "        GRADIANT1 = -2*(H.transpose().dot(ERROR1))\n",
    "        GRADIANT2 = -2*(H.transpose().dot(ERROR2))\n",
    "        MAG = np.math.sqrt((GRADIANT**2).sum())\n",
    "        MAG1 = np.math.sqrt((GRADIANT1**2).sum())\n",
    "        MAG2 = np.math.sqrt((GRADIANT2**2).sum())\n",
    "        \n",
    "#         print \"MAG IS :\",MAG\n",
    "    print \"FINAL W IS : \",W,\"FINAL W1 IS : \",W1,\"FINAL W2 IS : \",W2\n",
    "    print \"FINAL GRAD IS :\",GRADIANT,\"FINAL GRAD1 IS :\",GRADIANT1,\"FINAL GRAD2 IS :\",GRADIANT2\n",
    "    print \"FINAL MAGNITUDE IS :\",MAG,\"FINAL MAGNITUDE1 IS :\",MAG1,\"FINAL MAGNITUDE2 IS :\",MAG2\n",
    "    \n",
    "    "
   ]
  },
  {
   "cell_type": "code",
   "execution_count": 14,
   "metadata": {
    "collapsed": false,
    "deletable": true,
    "editable": true,
    "scrolled": false
   },
   "outputs": [
    {
     "name": "stdout",
     "output_type": "stream",
     "text": [
      "GRADIANT :  [-17980.6          2899.80919193  -2480.7951118    3704.17717876\n",
      "  -1341.25616643   3198.69412628  -5314.24626893   2608.22530402\n",
      "  -1731.57093107   2849.94048788   3530.42402398   3652.66576711\n",
      "  -2341.62126284   5342.17338596  -9175.55747042 -22775.28372242\n",
      " -17919.13376713 -22402.93750349 -15899.95606746 -23915.84864225\n",
      " -18544.51564646 -18040.69053173 -14727.82079719 -15919.33438862\n",
      " -20443.72720035 -11289.69576841 -15808.21017544] GRADIANT1 :  [-17980.6          2899.80919193  -2480.7951118    3704.17717876\n",
      "  -1341.25616643   3198.69412628  -5314.24626893   2608.22530402\n",
      "  -1731.57093107   2849.94048788   3530.42402398   3652.66576711\n",
      "  -2341.62126284   5342.17338596  -9175.55747042 -22775.28372242\n",
      " -17919.13376713 -22402.93750349 -15899.95606746 -23915.84864225\n",
      " -18544.51564646 -18040.69053173 -14727.82079719 -15919.33438862\n",
      " -20443.72720035 -11289.69576841 -15808.21017544] GRADIANT2 :  [-17980.6          2899.80919193  -2480.7951118    3704.17717876\n",
      "  -1341.25616643   3198.69412628  -5314.24626893   2608.22530402\n",
      "  -1731.57093107   2849.94048788   3530.42402398   3652.66576711\n",
      "  -2341.62126284   5342.17338596  -9175.55747042 -22775.28372242\n",
      " -17919.13376713 -22402.93750349 -15899.95606746 -23915.84864225\n",
      " -18544.51564646 -18040.69053173 -14727.82079719 -15919.33438862\n",
      " -20443.72720035 -11289.69576841 -15808.21017544]\n",
      "MAG : 68229.6062564 MAG1 : 68229.6062564 MAG2 : 68229.6062564\n"
     ]
    },
    {
     "name": "stderr",
     "output_type": "stream",
     "text": [
      "/home/om/gl-env/lib/python2.7/site-packages/ipykernel/__main__.py:34: RuntimeWarning: invalid value encountered in power\n"
     ]
    },
    {
     "name": "stdout",
     "output_type": "stream",
     "text": [
      "FINAL W IS :  [ nan  nan  nan  nan  nan  nan  nan  nan  nan  nan  nan  nan  nan  nan  nan\n",
      "  nan  nan  nan  nan  nan  nan  nan  nan  nan  nan  nan  nan] FINAL W1 IS :  [ nan  nan  nan  nan  nan  nan  nan  nan  nan  nan  nan  nan  nan  nan  nan\n",
      "  nan  nan  nan  nan  nan  nan  nan  nan  nan  nan  nan  nan] FINAL W2 IS :  [ nan  nan  nan  nan  nan  nan  nan  nan  nan  nan  nan  nan  nan  nan  nan\n",
      "  nan  nan  nan  nan  nan  nan  nan  nan  nan  nan  nan  nan]\n",
      "FINAL GRAD IS : [ nan  nan  nan  nan  nan  nan  nan  nan  nan  nan  nan  nan  nan  nan  nan\n",
      "  nan  nan  nan  nan  nan  nan  nan  nan  nan  nan  nan  nan] FINAL GRAD1 IS : [ nan  nan  nan  nan  nan  nan  nan  nan  nan  nan  nan  nan  nan  nan  nan\n",
      "  nan  nan  nan  nan  nan  nan  nan  nan  nan  nan  nan  nan] FINAL GRAD2 IS : [ nan  nan  nan  nan  nan  nan  nan  nan  nan  nan  nan  nan  nan  nan  nan\n",
      "  nan  nan  nan  nan  nan  nan  nan  nan  nan  nan  nan  nan]\n",
      "FINAL MAGNITUDE IS : nan FINAL MAGNITUDE1 IS : nan FINAL MAGNITUDE2 IS : nan\n"
     ]
    }
   ],
   "source": [
    "ridge_regression(H_TRAIN,Y,STEP,LAMBDA,iterations,W,1.25,1.75)"
   ]
  },
  {
   "cell_type": "code",
   "execution_count": 49,
   "metadata": {
    "collapsed": false,
    "deletable": true,
    "editable": true
   },
   "outputs": [
    {
     "ename": "SyntaxError",
     "evalue": "invalid syntax (<ipython-input-49-7eecebd6444f>, line 1)",
     "output_type": "error",
     "traceback": [
      "\u001b[0;36m  File \u001b[0;32m\"<ipython-input-49-7eecebd6444f>\"\u001b[0;36m, line \u001b[0;32m1\u001b[0m\n\u001b[0;31m    FINAL MAGNITUDE IS : 0.019044985941\u001b[0m\n\u001b[0m                  ^\u001b[0m\n\u001b[0;31mSyntaxError\u001b[0m\u001b[0;31m:\u001b[0m invalid syntax\n"
     ]
    }
   ],
   "source": [
    "FINAL MAGNITUDE IS : 0.019044985941"
   ]
  },
  {
   "cell_type": "code",
   "execution_count": 7,
   "metadata": {
    "collapsed": false,
    "deletable": true,
    "editable": true
   },
   "outputs": [
    {
     "name": "stdout",
     "output_type": "stream",
     "text": [
      "[ 21.20238248  26.44651115  15.23977161  15.92372188  22.68919708\n",
      "  21.78526439  17.88180876  19.95670786  34.89754548  18.48472083\n",
      "  25.6610495   22.89459655  19.14720577  14.19445649  17.15382372\n",
      "  25.6957809   17.20731702  27.0193917   20.68578978  21.50924461\n",
      "  24.81161144  42.19169239  24.09152335  10.83571649  14.11822319\n",
      "  23.28783236  13.99032477  20.17021958  23.09569408  12.77544959\n",
      "  39.00142163  18.27182815  16.71876181  17.91346387  22.94553972\n",
      "  21.03504689  30.52912744  32.99331015  43.62686974  30.18535737\n",
      "  17.07354747  38.57794017  23.50259207  13.16465925  23.2441219\n",
      "  24.52721006  16.84592981  22.15943001  15.63557965  14.24742761\n",
      "  18.84287064  34.36924424  26.36384311   7.33761029  13.29087781\n",
      "  14.24350105  19.29879643  12.69002936   8.21986586  16.6806711\n",
      "  18.83654164  21.17811512  35.8317116   22.35153071  41.22479231\n",
      "  32.68703119  12.87434607  22.57521021  23.62166042  11.80985123\n",
      "  16.32473305  19.5682967   26.70416772  15.48281236  20.17340019\n",
      "  16.09004502  16.33130575  30.78259656  17.565812    33.4341337\n",
      "  34.34439689  45.47357913  29.09773613  33.36728382  17.22832177\n",
      "  35.76460752  10.98438627  30.26180702  15.03812028  19.45352781\n",
      "  12.44334551  19.72431807  13.43613997  21.0924635   19.47605809\n",
      "  24.18992418  38.86608585  12.32821615  13.89752322  29.02489289\n",
      "  25.7719878   14.88766227  28.49620448  38.19596135  33.08002297]\n"
     ]
    }
   ],
   "source": [
    "ones_test = np.array([1]*105)\n",
    "H_TEST = np.c_[ones_test,data_test[:,1:],data_test[:,1:]**2]\n",
    "Y_OUTPUT = H_TEST.dot(W)\n",
    "print Y_OUTPUT"
   ]
  },
  {
   "cell_type": "code",
   "execution_count": 8,
   "metadata": {
    "collapsed": false,
    "deletable": true,
    "editable": true
   },
   "outputs": [
    {
     "data": {
      "text/plain": [
       "array([[   0.        ,   21.20238248],\n",
       "       [   1.        ,   26.44651115],\n",
       "       [   2.        ,   15.23977161],\n",
       "       [   3.        ,   15.92372188],\n",
       "       [   4.        ,   22.68919708],\n",
       "       [   5.        ,   21.78526439],\n",
       "       [   6.        ,   17.88180876],\n",
       "       [   7.        ,   19.95670786],\n",
       "       [   8.        ,   34.89754548],\n",
       "       [   9.        ,   18.48472083],\n",
       "       [  10.        ,   25.6610495 ],\n",
       "       [  11.        ,   22.89459655],\n",
       "       [  12.        ,   19.14720577],\n",
       "       [  13.        ,   14.19445649],\n",
       "       [  14.        ,   17.15382372],\n",
       "       [  15.        ,   25.6957809 ],\n",
       "       [  16.        ,   17.20731702],\n",
       "       [  17.        ,   27.0193917 ],\n",
       "       [  18.        ,   20.68578978],\n",
       "       [  19.        ,   21.50924461],\n",
       "       [  20.        ,   24.81161144],\n",
       "       [  21.        ,   42.19169239],\n",
       "       [  22.        ,   24.09152335],\n",
       "       [  23.        ,   10.83571649],\n",
       "       [  24.        ,   14.11822319],\n",
       "       [  25.        ,   23.28783236],\n",
       "       [  26.        ,   13.99032477],\n",
       "       [  27.        ,   20.17021958],\n",
       "       [  28.        ,   23.09569408],\n",
       "       [  29.        ,   12.77544959],\n",
       "       [  30.        ,   39.00142163],\n",
       "       [  31.        ,   18.27182815],\n",
       "       [  32.        ,   16.71876181],\n",
       "       [  33.        ,   17.91346387],\n",
       "       [  34.        ,   22.94553972],\n",
       "       [  35.        ,   21.03504689],\n",
       "       [  36.        ,   30.52912744],\n",
       "       [  37.        ,   32.99331015],\n",
       "       [  38.        ,   43.62686974],\n",
       "       [  39.        ,   30.18535737],\n",
       "       [  40.        ,   17.07354747],\n",
       "       [  41.        ,   38.57794017],\n",
       "       [  42.        ,   23.50259207],\n",
       "       [  43.        ,   13.16465925],\n",
       "       [  44.        ,   23.2441219 ],\n",
       "       [  45.        ,   24.52721006],\n",
       "       [  46.        ,   16.84592981],\n",
       "       [  47.        ,   22.15943001],\n",
       "       [  48.        ,   15.63557965],\n",
       "       [  49.        ,   14.24742761],\n",
       "       [  50.        ,   18.84287064],\n",
       "       [  51.        ,   34.36924424],\n",
       "       [  52.        ,   26.36384311],\n",
       "       [  53.        ,    7.33761029],\n",
       "       [  54.        ,   13.29087781],\n",
       "       [  55.        ,   14.24350105],\n",
       "       [  56.        ,   19.29879643],\n",
       "       [  57.        ,   12.69002936],\n",
       "       [  58.        ,    8.21986586],\n",
       "       [  59.        ,   16.6806711 ],\n",
       "       [  60.        ,   18.83654164],\n",
       "       [  61.        ,   21.17811512],\n",
       "       [  62.        ,   35.8317116 ],\n",
       "       [  63.        ,   22.35153071],\n",
       "       [  64.        ,   41.22479231],\n",
       "       [  65.        ,   32.68703119],\n",
       "       [  66.        ,   12.87434607],\n",
       "       [  67.        ,   22.57521021],\n",
       "       [  68.        ,   23.62166042],\n",
       "       [  69.        ,   11.80985123],\n",
       "       [  70.        ,   16.32473305],\n",
       "       [  71.        ,   19.5682967 ],\n",
       "       [  72.        ,   26.70416772],\n",
       "       [  73.        ,   15.48281236],\n",
       "       [  74.        ,   20.17340019],\n",
       "       [  75.        ,   16.09004502],\n",
       "       [  76.        ,   16.33130575],\n",
       "       [  77.        ,   30.78259656],\n",
       "       [  78.        ,   17.565812  ],\n",
       "       [  79.        ,   33.4341337 ],\n",
       "       [  80.        ,   34.34439689],\n",
       "       [  81.        ,   45.47357913],\n",
       "       [  82.        ,   29.09773613],\n",
       "       [  83.        ,   33.36728382],\n",
       "       [  84.        ,   17.22832177],\n",
       "       [  85.        ,   35.76460752],\n",
       "       [  86.        ,   10.98438627],\n",
       "       [  87.        ,   30.26180702],\n",
       "       [  88.        ,   15.03812028],\n",
       "       [  89.        ,   19.45352781],\n",
       "       [  90.        ,   12.44334551],\n",
       "       [  91.        ,   19.72431807],\n",
       "       [  92.        ,   13.43613997],\n",
       "       [  93.        ,   21.0924635 ],\n",
       "       [  94.        ,   19.47605809],\n",
       "       [  95.        ,   24.18992418],\n",
       "       [  96.        ,   38.86608585],\n",
       "       [  97.        ,   12.32821615],\n",
       "       [  98.        ,   13.89752322],\n",
       "       [  99.        ,   29.02489289],\n",
       "       [ 100.        ,   25.7719878 ],\n",
       "       [ 101.        ,   14.88766227],\n",
       "       [ 102.        ,   28.49620448],\n",
       "       [ 103.        ,   38.19596135],\n",
       "       [ 104.        ,   33.08002297]])"
      ]
     },
     "execution_count": 8,
     "metadata": {},
     "output_type": "execute_result"
    }
   ],
   "source": [
    "PREDICTION = np.c_[data_test[:,0],Y_OUTPUT]\n",
    "PREDICTION"
   ]
  },
  {
   "cell_type": "code",
   "execution_count": 30,
   "metadata": {
    "collapsed": false,
    "deletable": true,
    "editable": true
   },
   "outputs": [
    {
     "ename": "ValueError",
     "evalue": "fmt has wrong number of % formats:  %d,%f",
     "output_type": "error",
     "traceback": [
      "\u001b[0;31m---------------------------------------------------------------------------\u001b[0m",
      "\u001b[0;31mValueError\u001b[0m                                Traceback (most recent call last)",
      "\u001b[0;32m<ipython-input-30-e30de5fe156f>\u001b[0m in \u001b[0;36m<module>\u001b[0;34m()\u001b[0m\n\u001b[0;32m----> 1\u001b[0;31m \u001b[0mnp\u001b[0m\u001b[0;34m.\u001b[0m\u001b[0msavetxt\u001b[0m\u001b[0;34m(\u001b[0m\u001b[0;34m'output_new.csv'\u001b[0m\u001b[0;34m,\u001b[0m\u001b[0mY_OUTPUT\u001b[0m\u001b[0;34m,\u001b[0m\u001b[0mdelimiter\u001b[0m \u001b[0;34m=\u001b[0m \u001b[0;34m\",\"\u001b[0m\u001b[0;34m,\u001b[0m\u001b[0mfmt\u001b[0m \u001b[0;34m=\u001b[0m \u001b[0;34m\"%d,%f\"\u001b[0m\u001b[0;34m,\u001b[0m\u001b[0mheader\u001b[0m \u001b[0;34m=\u001b[0m \u001b[0;34m\"ID,MEDV\"\u001b[0m\u001b[0;34m,\u001b[0m\u001b[0mcomments\u001b[0m \u001b[0;34m=\u001b[0m \u001b[0;34m\"\"\u001b[0m\u001b[0;34m)\u001b[0m\u001b[0;34m\u001b[0m\u001b[0m\n\u001b[0m",
      "\u001b[0;32m/home/om/gl-env/local/lib/python2.7/site-packages/numpy/lib/npyio.pyc\u001b[0m in \u001b[0;36msavetxt\u001b[0;34m(fname, X, fmt, delimiter, newline, header, footer, comments)\u001b[0m\n\u001b[1;32m   1194\u001b[0m                 \u001b[0;32mraise\u001b[0m \u001b[0merror\u001b[0m\u001b[0;34m\u001b[0m\u001b[0m\n\u001b[1;32m   1195\u001b[0m             \u001b[0;32melif\u001b[0m \u001b[0;34m(\u001b[0m\u001b[0;34m(\u001b[0m\u001b[0;32mnot\u001b[0m \u001b[0miscomplex_X\u001b[0m\u001b[0;34m)\u001b[0m \u001b[0;32mand\u001b[0m \u001b[0mn_fmt_chars\u001b[0m \u001b[0;34m!=\u001b[0m \u001b[0mncol\u001b[0m\u001b[0;34m)\u001b[0m\u001b[0;34m:\u001b[0m\u001b[0;34m\u001b[0m\u001b[0m\n\u001b[0;32m-> 1196\u001b[0;31m                 \u001b[0;32mraise\u001b[0m \u001b[0merror\u001b[0m\u001b[0;34m\u001b[0m\u001b[0m\n\u001b[0m\u001b[1;32m   1197\u001b[0m             \u001b[0;32melse\u001b[0m\u001b[0;34m:\u001b[0m\u001b[0;34m\u001b[0m\u001b[0m\n\u001b[1;32m   1198\u001b[0m                 \u001b[0mformat\u001b[0m \u001b[0;34m=\u001b[0m \u001b[0mfmt\u001b[0m\u001b[0;34m\u001b[0m\u001b[0m\n",
      "\u001b[0;31mValueError\u001b[0m: fmt has wrong number of % formats:  %d,%f"
     ]
    }
   ],
   "source": [
    "np.savetxt('output_new.csv',Y_OUTPUT,delimiter = \",\",fmt = \"%d,%f\",header = \"ID,MEDV\",comments = \"\")"
   ]
  },
  {
   "cell_type": "code",
   "execution_count": null,
   "metadata": {
    "collapsed": true,
    "deletable": true,
    "editable": true
   },
   "outputs": [],
   "source": []
  }
 ],
 "metadata": {
  "kernelspec": {
   "display_name": "Python 2",
   "language": "python",
   "name": "python2"
  },
  "language_info": {
   "codemirror_mode": {
    "name": "ipython",
    "version": 2
   },
   "file_extension": ".py",
   "mimetype": "text/x-python",
   "name": "python",
   "nbconvert_exporter": "python",
   "pygments_lexer": "ipython2",
   "version": "2.7.12"
  }
 },
 "nbformat": 4,
 "nbformat_minor": 2
}
