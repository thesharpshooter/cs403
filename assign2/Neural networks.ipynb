{
 "cells": [
  {
   "cell_type": "code",
   "execution_count": 88,
   "metadata": {
    "collapsed": true
   },
   "outputs": [],
   "source": [
    "import numpy as np\n",
    "import pandas as pd"
   ]
  },
  {
   "cell_type": "code",
   "execution_count": 140,
   "metadata": {
    "collapsed": true
   },
   "outputs": [],
   "source": [
    "class Neural_Network(object):\n",
    "    \n",
    "    def __init__(self,n_inputs,n_hiddens,n_outputs):\n",
    "        self.inputLayerSize = n_inputs\n",
    "        self.hiddenLayerSize = n_hiddens\n",
    "        self.outputLayerSize = n_outputs\n",
    "        \n",
    "        self.W1 = np.random.randn(self.inputLayerSize,self.hiddenLayerSize)\n",
    "        self.W2 = np.random.randn(self.hiddenLayerSize,self.outputLayerSize)\n",
    "        \n",
    "    \n",
    "    def forward(self,X):\n",
    "        self.z2 = np.dot(X,self.W1)\n",
    "        self.a2 = self.sigmoid(self.z2)\n",
    "        self.z3 = np.dot(self.a2,self.W2)\n",
    "        yHat = self.sigmoid(self.z3)\n",
    "        return yHat\n",
    "    \n",
    "    def sigmoid(self,z):\n",
    "        return 1.0/(1.0 + np.exp(-z))\n",
    "    \n",
    "    def sigmoid_prime(self,z):\n",
    "        return np.exp(-z)/((1+np.exp(-z))**2)\n",
    "    \n",
    "    def costFunction(self,x,y):\n",
    "        self.yHat = self.forward(x)\n",
    "        J = 0.5*sum((y-self.yHat)**2)\n",
    "        return J\n",
    "    \n",
    "    def costFunctionPrime(self,x,y):\n",
    "        self.yHat = self.forward(x)\n",
    "        \n",
    "        delta3 = np.multiply(-(y-self.yHat), self.sigmoid_prime(self.z3))\n",
    "        dJdW2 = np.dot(self.a2.T,delta3)\n",
    "        \n",
    "        delta2 = np.dot(delta3,self.W2.T)*self.sigmoid_prime(self.z2)\n",
    "        dJdW1 = np.dot(x.T,delta2)\n",
    "        \n",
    "        return dJdW1,dJdW2\n",
    "    \n",
    "    def train(self,x,y,n_iter,l_rate):\n",
    "            \n",
    "            for n in range(n_iter):\n",
    "                cost = self.costFunction(x,y)\n",
    "                del1,del2 = self.costFunctionPrime(x,y)\n",
    "                \n",
    "                self.W1 -= l_rate*del1\n",
    "                self.W2 -= l_rate*del2\n",
    "                \n",
    "                if n%50 == 0 :\n",
    "                    print \"Iterations : \",n,\" Cost : \",cost\n"
   ]
  },
  {
   "cell_type": "code",
   "execution_count": 144,
   "metadata": {
    "collapsed": true
   },
   "outputs": [],
   "source": [
    "data = np.array([[1,0],[0,1],[0,0],[1,1]])\n",
    "Y = np.array([[1,1,0,1]]).T"
   ]
  },
  {
   "cell_type": "code",
   "execution_count": 154,
   "metadata": {
    "collapsed": true
   },
   "outputs": [],
   "source": [
    "NN = Neural_Network(2,10,1)"
   ]
  },
  {
   "cell_type": "code",
   "execution_count": 155,
   "metadata": {
    "collapsed": false
   },
   "outputs": [
    {
     "name": "stdout",
     "output_type": "stream",
     "text": [
      "Iterations :  0  Cost :  [ 0.3120964]\n",
      "Iterations :  50  Cost :  [ 0.12249312]\n",
      "Iterations :  100  Cost :  [ 0.09101386]\n",
      "Iterations :  150  Cost :  [ 0.07727555]\n",
      "Iterations :  200  Cost :  [ 0.06666058]\n",
      "Iterations :  250  Cost :  [ 0.05821005]\n",
      "Iterations :  300  Cost :  [ 0.05137524]\n",
      "Iterations :  350  Cost :  [ 0.04576889]\n",
      "Iterations :  400  Cost :  [ 0.04111156]\n",
      "Iterations :  450  Cost :  [ 0.03719818]\n"
     ]
    }
   ],
   "source": [
    "NN.train(data,Y,500,0.1)"
   ]
  },
  {
   "cell_type": "code",
   "execution_count": 156,
   "metadata": {
    "collapsed": false
   },
   "outputs": [
    {
     "data": {
      "text/plain": [
       "array([[ 0.88048911],\n",
       "       [ 0.87912883],\n",
       "       [ 0.1944457 ],\n",
       "       [ 0.9675978 ]])"
      ]
     },
     "execution_count": 156,
     "metadata": {},
     "output_type": "execute_result"
    }
   ],
   "source": [
    "NN.forward(data)"
   ]
  },
  {
   "cell_type": "code",
   "execution_count": 131,
   "metadata": {
    "collapsed": false
   },
   "outputs": [],
   "source": []
  },
  {
   "cell_type": "code",
   "execution_count": null,
   "metadata": {
    "collapsed": true
   },
   "outputs": [],
   "source": []
  }
 ],
 "metadata": {
  "kernelspec": {
   "display_name": "Python 2",
   "language": "python",
   "name": "python2"
  },
  "language_info": {
   "codemirror_mode": {
    "name": "ipython",
    "version": 2
   },
   "file_extension": ".py",
   "mimetype": "text/x-python",
   "name": "python",
   "nbconvert_exporter": "python",
   "pygments_lexer": "ipython2",
   "version": "2.7.12"
  }
 },
 "nbformat": 4,
 "nbformat_minor": 2
}
