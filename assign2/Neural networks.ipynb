{
 "cells": [
  {
   "cell_type": "code",
   "execution_count": 1,
   "metadata": {
    "collapsed": true
   },
   "outputs": [],
   "source": [
    "import numpy as np\n",
    "import pandas as pd"
   ]
  },
  {
   "cell_type": "code",
   "execution_count": 12,
   "metadata": {
    "collapsed": true
   },
   "outputs": [],
   "source": [
    "def make_network(n_inputs,n_hidden,n_outputs):\n",
    "    weight_0 = 2*np.random.random((n_inputs+1,n_hidden)) -1 #initialize weights 0\n",
    "    weight_1 = 2*np.random.random((n_hidden+1,n_outputs)) -1 #initialize weights 1\n",
    "    return weight_0,weight_1"
   ]
  },
  {
   "cell_type": "code",
   "execution_count": 42,
   "metadata": {
    "collapsed": true
   },
   "outputs": [],
   "source": [
    "w0,w1 = make_network(5,5,1)"
   ]
  },
  {
   "cell_type": "code",
   "execution_count": 43,
   "metadata": {
    "collapsed": false
   },
   "outputs": [],
   "source": [
    "def sigmoid(z): #sigmoid activation\n",
    "    return 1.0/(1.0+np.exp(-z))"
   ]
  },
  {
   "cell_type": "code",
   "execution_count": 84,
   "metadata": {
    "collapsed": false
   },
   "outputs": [],
   "source": [
    "def forward_propagate(data,w0,w1):\n",
    "    \n",
    "    n_inputs = data.shape[1]\n",
    "    n_outputs = target.shape[0]\n",
    "    n_hidden = n_inputs\n",
    "    w0,w1 = make_network(n_inputs,n_hidden,n_outputs)\n",
    "    input_layer = np.c_[[1],data].T\n",
    "    hidden_layer = sigmoid(np.dot(w0.T,input_layer))\n",
    "    hidden_layer = np.c_[[1],hidden_layer.T].T\n",
    "    output_layer = sigmoid(np.dot(w1.T,hidden_layer))\n",
    "    print output_layer"
   ]
  },
  {
   "cell_type": "code",
   "execution_count": 85,
   "metadata": {
    "collapsed": false
   },
   "outputs": [
    {
     "name": "stdout",
     "output_type": "stream",
     "text": [
      "[[ 0.78502652]]\n"
     ]
    }
   ],
   "source": [
    "data = np.array([[1,2,3,7]])\n",
    "target = np.array([[1]])\n",
    "forward_propagate(data,target)"
   ]
  },
  {
   "cell_type": "code",
   "execution_count": 72,
   "metadata": {
    "collapsed": false
   },
   "outputs": [
    {
     "data": {
      "text/plain": [
       "(array([[ 0.96316016, -0.51620432,  0.9099406 , -0.1909022 , -0.90420527],\n",
       "        [ 0.54227896, -0.35893161, -0.03808152,  0.37063813, -0.21066963],\n",
       "        [ 0.78079583, -0.07295032, -0.25607145, -0.33607765,  0.95005846],\n",
       "        [-0.06300325,  0.2516321 , -0.4374768 ,  0.53815818, -0.70356558],\n",
       "        [ 0.43257209,  0.55476013,  0.00265112,  0.53956088, -0.49624887],\n",
       "        [-0.66287668,  0.9187585 ,  0.47308733,  0.24980978,  0.51778025]]),\n",
       " array([[-0.65315003],\n",
       "        [ 0.79430648],\n",
       "        [-0.27900795],\n",
       "        [-0.4791208 ],\n",
       "        [-0.1596426 ],\n",
       "        [ 0.69006436]]))"
      ]
     },
     "execution_count": 72,
     "metadata": {},
     "output_type": "execute_result"
    }
   ],
   "source": [
    "make_network(5,5,1)"
   ]
  },
  {
   "cell_type": "code",
   "execution_count": 56,
   "metadata": {
    "collapsed": false
   },
   "outputs": [
    {
     "data": {
      "text/plain": [
       "(1, 5)"
      ]
     },
     "execution_count": 56,
     "metadata": {},
     "output_type": "execute_result"
    }
   ],
   "source": [
    "data.shape"
   ]
  },
  {
   "cell_type": "code",
   "execution_count": null,
   "metadata": {
    "collapsed": true
   },
   "outputs": [],
   "source": []
  }
 ],
 "metadata": {
  "kernelspec": {
   "display_name": "Python 2",
   "language": "python",
   "name": "python2"
  },
  "language_info": {
   "codemirror_mode": {
    "name": "ipython",
    "version": 2
   },
   "file_extension": ".py",
   "mimetype": "text/x-python",
   "name": "python",
   "nbconvert_exporter": "python",
   "pygments_lexer": "ipython2",
   "version": "2.7.12"
  }
 },
 "nbformat": 4,
 "nbformat_minor": 2
}
