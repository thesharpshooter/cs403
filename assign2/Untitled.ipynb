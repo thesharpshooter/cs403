{
 "cells": [
  {
   "cell_type": "code",
   "execution_count": 151,
   "metadata": {
    "collapsed": true
   },
   "outputs": [],
   "source": [
    "import pandas as pd\n",
    "import numpy as np"
   ]
  },
  {
   "cell_type": "code",
   "execution_count": 152,
   "metadata": {
    "collapsed": true
   },
   "outputs": [],
   "source": [
    "data_train = pd.read_csv('data/train.csv')\n",
    "data_test = pd.read_csv('data/kaggle_test_data.csv')"
   ]
  },
  {
   "cell_type": "code",
   "execution_count": 153,
   "metadata": {
    "collapsed": false
   },
   "outputs": [],
   "source": [
    "features = list(data_train)[1:-1]\n",
    "target = list(data_train)[-1]"
   ]
  },
  {
   "cell_type": "code",
   "execution_count": 154,
   "metadata": {
    "collapsed": false
   },
   "outputs": [],
   "source": [
    "strings = []\n",
    "for feature in features:\n",
    "    if data_train[feature].dtype == 'object':\n",
    "        curr_mode = data_train[feature].mode()[0]\n",
    "        data_train[feature] = data_train[feature].apply(lambda x :\n",
    "                                                       curr_mode if x == \" ?\" else x)"
   ]
  },
  {
   "cell_type": "code",
   "execution_count": 155,
   "metadata": {
    "collapsed": false
   },
   "outputs": [],
   "source": [
    "# one hot encoding\n",
    "for feature in features:\n",
    "    if data_train[feature].dtype == \"object\":\n",
    "        values = data_train[feature].unique()\n",
    "        for value in values:\n",
    "            data_train[value] = data_train[feature].apply(lambda z : 1 if z == value else 0)\n",
    "        "
   ]
  },
  {
   "cell_type": "code",
   "execution_count": 156,
   "metadata": {
    "collapsed": false
   },
   "outputs": [],
   "source": [
    "features = list(set(list(data_train)) - set(features+[target,\"id\"]))\n",
    "#print features"
   ]
  },
  {
   "cell_type": "code",
   "execution_count": 157,
   "metadata": {
    "collapsed": false
   },
   "outputs": [
    {
     "name": "stdout",
     "output_type": "stream",
     "text": [
      "(38973, 99)\n",
      "(38973,)\n"
     ]
    }
   ],
   "source": [
    "input_matrix = data_train[features].as_matrix()\n",
    "target_matrix = data_train[target].as_matrix()\n",
    "print input_matrix.shape\n",
    "print target_matrix.shape"
   ]
  },
  {
   "cell_type": "code",
   "execution_count": 158,
   "metadata": {
    "collapsed": false
   },
   "outputs": [],
   "source": [
    "def sigmoid(z):\n",
    "    return 1.0/(1.0 + np.exp(-z))"
   ]
  },
  {
   "cell_type": "code",
   "execution_count": 159,
   "metadata": {
    "collapsed": false
   },
   "outputs": [],
   "source": [
    "def sigmoid_prime(output):\n",
    "    return output*(1.0-output)"
   ]
  },
  {
   "cell_type": "code",
   "execution_count": 232,
   "metadata": {
    "collapsed": false
   },
   "outputs": [],
   "source": [
    "def neural_net(n_inputs,n_hidden,n_output,data,target):\n",
    "    np.random.seed(1)\n",
    "    \n",
    "    theta0 = 2*np.random.random((n_inputs+1,n_hidden)) - 1\n",
    "    theta1 = 2*np.random.random((n_hidden+1,n_output)) - 1\n",
    "    \n",
    "    print \"Theta0 is : \",theta0.shape\n",
    "    print \"Theta1 is : \",theta1.shape\n",
    "    \n",
    "    layer0 = data\n",
    "    layer0 = np.c_[np.ones(len(layer0)),layer0]\n",
    "    print \"Layer 0 is : \",layer0.shape\n",
    "    layer1 = sigmoid(np.dot(data,theta0))\n",
    "    layer1 = np.c_[np.ones(len(layer1)),layer1]\n",
    "    #print layer1.shape\n",
    "    print \"Layer 1 is : \",layer1.shape\n",
    "    layer2 = sigmoid(np.dot(layer1,theta1))\n",
    "    print \"Layer 2 is : \",layer2.shape\n",
    "    \n",
    "    layer2_error = (target - layer2.T).T\n",
    "    layer2_delta = layer2_error*sigmoid_prime(layer2)\n",
    "    print \"Layer 2 error is : \",layer2_error.shape\n",
    "    print \"Layer 2 delta is : \",layer2_delta.shape\n",
    "    \n",
    "    layer1_error = np.dot(layer2_delta,theta1.T)\n",
    "    layer1_error = layer1_error[:,1:]\n",
    "    print \"Layer 1 error is : \",layer1_error.shape\n",
    "    \n",
    "    layer1_delta = layer1_error*sigmoid_prime(layer1)\n",
    "    print \"Layer 1 delta is : \",layer1_delta.shape\n",
    "    \n",
    "    print layer0.T.dot(layer1_delta).shape\n",
    "    #theta1 += layer1.T.dot(layer2_delta)\n",
    "    print layer1.T.dot(layer2_delta).shape\n",
    "    \n",
    "    \n",
    "    \n",
    "    \n",
    "    "
   ]
  },
  {
   "cell_type": "code",
   "execution_count": 233,
   "metadata": {
    "collapsed": false
   },
   "outputs": [
    {
     "name": "stdout",
     "output_type": "stream",
     "text": [
      "Theta0 is :  (100, 100)\n",
      "Theta1 is :  (101, 1)\n",
      "Layer 0 is :  (38973, 100)\n"
     ]
    },
    {
     "ename": "ValueError",
     "evalue": "shapes (38973,99) and (100,100) not aligned: 99 (dim 1) != 100 (dim 0)",
     "output_type": "error",
     "traceback": [
      "\u001b[0;31m---------------------------------------------------------------------------\u001b[0m",
      "\u001b[0;31mValueError\u001b[0m                                Traceback (most recent call last)",
      "\u001b[0;32m<ipython-input-233-3f345a71f37e>\u001b[0m in \u001b[0;36m<module>\u001b[0;34m()\u001b[0m\n\u001b[0;32m----> 1\u001b[0;31m \u001b[0mneural_net\u001b[0m\u001b[0;34m(\u001b[0m\u001b[0;36m99\u001b[0m\u001b[0;34m,\u001b[0m\u001b[0;36m100\u001b[0m\u001b[0;34m,\u001b[0m\u001b[0;36m1\u001b[0m\u001b[0;34m,\u001b[0m\u001b[0minput_matrix\u001b[0m\u001b[0;34m,\u001b[0m\u001b[0mtarget_matrix\u001b[0m\u001b[0;34m)\u001b[0m\u001b[0;34m\u001b[0m\u001b[0m\n\u001b[0m",
      "\u001b[0;32m<ipython-input-232-15b48f5c756f>\u001b[0m in \u001b[0;36mneural_net\u001b[0;34m(n_inputs, n_hidden, n_output, data, target)\u001b[0m\n\u001b[1;32m     11\u001b[0m     \u001b[0mlayer0\u001b[0m \u001b[0;34m=\u001b[0m \u001b[0mnp\u001b[0m\u001b[0;34m.\u001b[0m\u001b[0mc_\u001b[0m\u001b[0;34m[\u001b[0m\u001b[0mnp\u001b[0m\u001b[0;34m.\u001b[0m\u001b[0mones\u001b[0m\u001b[0;34m(\u001b[0m\u001b[0mlen\u001b[0m\u001b[0;34m(\u001b[0m\u001b[0mlayer0\u001b[0m\u001b[0;34m)\u001b[0m\u001b[0;34m)\u001b[0m\u001b[0;34m,\u001b[0m\u001b[0mlayer0\u001b[0m\u001b[0;34m]\u001b[0m\u001b[0;34m\u001b[0m\u001b[0m\n\u001b[1;32m     12\u001b[0m     \u001b[0;32mprint\u001b[0m \u001b[0;34m\"Layer 0 is : \"\u001b[0m\u001b[0;34m,\u001b[0m\u001b[0mlayer0\u001b[0m\u001b[0;34m.\u001b[0m\u001b[0mshape\u001b[0m\u001b[0;34m\u001b[0m\u001b[0m\n\u001b[0;32m---> 13\u001b[0;31m     \u001b[0mlayer1\u001b[0m \u001b[0;34m=\u001b[0m \u001b[0msigmoid\u001b[0m\u001b[0;34m(\u001b[0m\u001b[0mnp\u001b[0m\u001b[0;34m.\u001b[0m\u001b[0mdot\u001b[0m\u001b[0;34m(\u001b[0m\u001b[0mdata\u001b[0m\u001b[0;34m,\u001b[0m\u001b[0mtheta0\u001b[0m\u001b[0;34m)\u001b[0m\u001b[0;34m)\u001b[0m\u001b[0;34m\u001b[0m\u001b[0m\n\u001b[0m\u001b[1;32m     14\u001b[0m     \u001b[0mlayer1\u001b[0m \u001b[0;34m=\u001b[0m \u001b[0mnp\u001b[0m\u001b[0;34m.\u001b[0m\u001b[0mc_\u001b[0m\u001b[0;34m[\u001b[0m\u001b[0mnp\u001b[0m\u001b[0;34m.\u001b[0m\u001b[0mones\u001b[0m\u001b[0;34m(\u001b[0m\u001b[0mlen\u001b[0m\u001b[0;34m(\u001b[0m\u001b[0mlayer1\u001b[0m\u001b[0;34m)\u001b[0m\u001b[0;34m)\u001b[0m\u001b[0;34m,\u001b[0m\u001b[0mlayer1\u001b[0m\u001b[0;34m]\u001b[0m\u001b[0;34m\u001b[0m\u001b[0m\n\u001b[1;32m     15\u001b[0m     \u001b[0;31m#print layer1.shape\u001b[0m\u001b[0;34m\u001b[0m\u001b[0;34m\u001b[0m\u001b[0m\n",
      "\u001b[0;31mValueError\u001b[0m: shapes (38973,99) and (100,100) not aligned: 99 (dim 1) != 100 (dim 0)"
     ]
    }
   ],
   "source": [
    "neural_net(99,100,1,input_matrix,target_matrix)"
   ]
  },
  {
   "cell_type": "code",
   "execution_count": 31,
   "metadata": {
    "collapsed": true
   },
   "outputs": [],
   "source": [
    "x = np.array([[0,0],[0,0],[2,2]])"
   ]
  },
  {
   "cell_type": "code",
   "execution_count": 33,
   "metadata": {
    "collapsed": false
   },
   "outputs": [
    {
     "data": {
      "text/plain": [
       "3"
      ]
     },
     "execution_count": 33,
     "metadata": {},
     "output_type": "execute_result"
    }
   ],
   "source": [
    "x = x."
   ]
  },
  {
   "cell_type": "code",
   "execution_count": null,
   "metadata": {
    "collapsed": true
   },
   "outputs": [],
   "source": []
  }
 ],
 "metadata": {
  "kernelspec": {
   "display_name": "Python 2",
   "language": "python",
   "name": "python2"
  },
  "language_info": {
   "codemirror_mode": {
    "name": "ipython",
    "version": 2
   },
   "file_extension": ".py",
   "mimetype": "text/x-python",
   "name": "python",
   "nbconvert_exporter": "python",
   "pygments_lexer": "ipython2",
   "version": "2.7.12"
  }
 },
 "nbformat": 4,
 "nbformat_minor": 2
}
