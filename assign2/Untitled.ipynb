{
 "cells": [
  {
   "cell_type": "code",
   "execution_count": 1,
   "metadata": {
    "collapsed": true,
    "deletable": true,
    "editable": true
   },
   "outputs": [],
   "source": [
    "import pandas as pd\n",
    "import numpy as np"
   ]
  },
  {
   "cell_type": "code",
   "execution_count": 2,
   "metadata": {
    "collapsed": true,
    "deletable": true,
    "editable": true
   },
   "outputs": [],
   "source": [
    "data_train = pd.read_csv('data/train.csv')\n",
    "data_test = pd.read_csv('data/kaggle_test_data.csv')"
   ]
  },
  {
   "cell_type": "code",
   "execution_count": 3,
   "metadata": {
    "collapsed": false,
    "deletable": true,
    "editable": true
   },
   "outputs": [],
   "source": [
    "features = list(data_train)[1:-1]\n",
    "target = list(data_train)[-1]"
   ]
  },
  {
   "cell_type": "code",
   "execution_count": 4,
   "metadata": {
    "collapsed": false,
    "deletable": true,
    "editable": true
   },
   "outputs": [],
   "source": [
    "strings = []\n",
    "for feature in list(data_train):\n",
    "    if data_train[feature].dtype == 'object':\n",
    "        curr_mode = data_train[feature].mode()[0]\n",
    "        data_train[feature] = data_train[feature].apply(lambda x :\n",
    "                                                       curr_mode if x == \" ?\" else x)\n",
    "for feature in list(data_test):\n",
    "    if data_test[feature].dtype == 'object':\n",
    "        curr_mode = data_test[feature].mode()[0]\n",
    "        data_test[feature] = data_test[feature].apply(lambda x :\n",
    "                                                       curr_mode if x == \" ?\" else x)\n",
    "continuous = []\n",
    "for feature in features:\n",
    "    if data_train[feature].dtype != 'object':\n",
    "        continuous.append(feature)"
   ]
  },
  {
   "cell_type": "code",
   "execution_count": 5,
   "metadata": {
    "collapsed": false,
    "deletable": true,
    "editable": true
   },
   "outputs": [],
   "source": [
    "# one hot encoding train\n",
    "for feature in list(data_train):\n",
    "    if data_train[feature].dtype == \"object\":\n",
    "        values = data_train[feature].unique()\n",
    "        for value in values:\n",
    "            data_train[value] = data_train[feature].apply(lambda z : 1 if z == value else 0)\n",
    "#one hot encoding test\n",
    "for feature in list(data_test):\n",
    "    if data_test[feature].dtype == \"object\":\n",
    "        values = data_test[feature].unique()\n",
    "        for value in values:\n",
    "            data_test[value] = data_test[feature].apply(lambda z : 1 if z == value else 0)\n"
   ]
  },
  {
   "cell_type": "code",
   "execution_count": 6,
   "metadata": {
    "collapsed": true,
    "deletable": true,
    "editable": true
   },
   "outputs": [],
   "source": [
    "#data_test doesnt has  Holand-Netherlands feature hence adding\n",
    "data_test[' Holand-Netherlands'] = 0"
   ]
  },
  {
   "cell_type": "code",
   "execution_count": 7,
   "metadata": {
    "collapsed": false,
    "deletable": true,
    "editable": true
   },
   "outputs": [],
   "source": [
    "features = list(set(list(data_train)) - set(features+[target,\"id\"])) + continuous\n",
    "#print features\n",
    "#normalizing continuous values\n",
    "for feature in continuous:\n",
    "    data_train[feature] = data_train[feature]*1.0/(max(data_train[feature]) - min(data_train[feature]))\n",
    "    data_test[feature] = data_test[feature]*1.0/(max(data_test[feature]) - min(data_test[feature]))"
   ]
  },
  {
   "cell_type": "code",
   "execution_count": 10,
   "metadata": {
    "collapsed": false,
    "deletable": true,
    "editable": true
   },
   "outputs": [
    {
     "name": "stdout",
     "output_type": "stream",
     "text": [
      "Train matrix :  (38973, 105)\n",
      "Test matrix :  (6878, 105)\n",
      "Target input matrix :  (38973, 1)\n"
     ]
    }
   ],
   "source": [
    "input_train_matrix = data_train[features].as_matrix()\n",
    "input_test_matrix = data_test[features].as_matrix()\n",
    "target_train_matrix = np.array([data_train[target]]).T\n",
    "print \"Train matrix : \",input_train_matrix.shape\n",
    "print \"Test matrix : \",input_test_matrix.shape\n",
    "print \"Target input matrix : \",target_train_matrix.shape"
   ]
  },
  {
   "cell_type": "code",
   "execution_count": 11,
   "metadata": {
    "collapsed": false,
    "deletable": true,
    "editable": true
   },
   "outputs": [],
   "source": [
    "class Neural_Network(object):\n",
    "    \n",
    "    def __init__(self,n_inputs,n_hiddens,n_outputs):\n",
    "        self.inputLayerSize = n_inputs\n",
    "        self.hiddenLayerSize = n_hiddens\n",
    "        self.outputLayerSize = n_outputs\n",
    "        \n",
    "        self.W1 = np.random.randn(self.inputLayerSize,self.hiddenLayerSize)\n",
    "        self.W2 = np.random.randn(self.hiddenLayerSize,self.outputLayerSize)\n",
    "        \n",
    "    \n",
    "    def forward(self,X):\n",
    "        self.z2 = np.dot(X,self.W1)\n",
    "        self.a2 = self.sigmoid(self.z2)\n",
    "        self.z3 = np.dot(self.a2,self.W2)\n",
    "        yHat = self.sigmoid(self.z3)\n",
    "        return yHat\n",
    "    \n",
    "    def sigmoid(self,z):\n",
    "        return 1.0/(1.0 + np.exp(-z))\n",
    "    \n",
    "    def sigmoid_prime(self,z):\n",
    "        return np.exp(-z)/((1+np.exp(-z))**2)\n",
    "    \n",
    "    def costFunction(self,x,y):\n",
    "        self.yHat = self.forward(x)\n",
    "        J = 0.5*sum((y-self.yHat)**2)\n",
    "        return J\n",
    "    \n",
    "    def costFunctionPrime(self,x,y):\n",
    "        self.yHat = self.forward(x)\n",
    "        \n",
    "        delta3 = np.multiply(-(y-self.yHat), self.sigmoid_prime(self.z3))\n",
    "        dJdW2 = np.dot(self.a2.T,delta3)\n",
    "        \n",
    "        delta2 = np.dot(delta3,self.W2.T)*self.sigmoid_prime(self.z2)\n",
    "        dJdW1 = np.dot(x.T,delta2)\n",
    "        \n",
    "        return dJdW1,dJdW2\n",
    "    \n",
    "    def train(self,x,y,n_iter,l_rate):\n",
    "            \n",
    "            for n in range(n_iter):\n",
    "                for j in range(x.shape[0]):\n",
    "                    curr_x = x[j:j+1,:]\n",
    "                    curr_y = y[j:j+1,:]\n",
    "                    cost = self.costFunction(curr_x,curr_y)\n",
    "                    del1,del2 = self.costFunctionPrime(curr_x,curr_y)\n",
    "                \n",
    "                    self.W1 -= l_rate*del1\n",
    "                    self.W2 -= l_rate*del2\n",
    "                print \"Iteration : \",n,\" Cost : \",self.costFunction(x,y)\n",
    "    \n",
    "    def predict(self,x):\n",
    "        yHat = self.forward(x)\n",
    "        self.yHat = (yHat >= 0.5).astype(int)\n",
    "        return self.yHat\n",
    "        "
   ]
  },
  {
   "cell_type": "code",
   "execution_count": 215,
   "metadata": {
    "collapsed": false,
    "deletable": true,
    "editable": true,
    "scrolled": true
   },
   "outputs": [],
   "source": [
    "NN1 = Neural_Network(105,105,1)"
   ]
  },
  {
   "cell_type": "code",
   "execution_count": 217,
   "metadata": {
    "collapsed": false,
    "deletable": true,
    "editable": true
   },
   "outputs": [
    {
     "name": "stdout",
     "output_type": "stream",
     "text": [
      "Iteration :  0  Cost :  [ 4669.08361213]\n",
      "Iteration :  1  Cost :  [ 3324.51235036]\n",
      "Iteration :  2  Cost :  [ 2816.17635918]\n",
      "Iteration :  3  Cost :  [ 2519.49863704]\n",
      "Iteration :  4  Cost :  [ 2384.63413057]\n",
      "Iteration :  5  Cost :  [ 2320.58768198]\n",
      "Iteration :  6  Cost :  [ 2283.16013132]\n",
      "Iteration :  7  Cost :  [ 2258.01891047]\n",
      "Iteration :  8  Cost :  [ 2239.57179259]\n",
      "Iteration :  9  Cost :  [ 2224.9795976]\n"
     ]
    }
   ],
   "source": [
    "NN1.train(input_train_matrix,target_train_matrix,10,0.01)"
   ]
  },
  {
   "cell_type": "code",
   "execution_count": 218,
   "metadata": {
    "collapsed": false,
    "deletable": true,
    "editable": true
   },
   "outputs": [
    {
     "data": {
      "text/plain": [
       "array([[0],\n",
       "       [0],\n",
       "       [1],\n",
       "       ..., \n",
       "       [0],\n",
       "       [0],\n",
       "       [0]])"
      ]
     },
     "execution_count": 218,
     "metadata": {},
     "output_type": "execute_result"
    }
   ],
   "source": [
    "NN1.predict(input_test_matrix) "
   ]
  },
  {
   "cell_type": "code",
   "execution_count": 12,
   "metadata": {
    "collapsed": false,
    "deletable": true,
    "editable": true
   },
   "outputs": [
    {
     "data": {
      "text/plain": [
       "0           4\n",
       "1           6\n",
       "2          11\n",
       "3          15\n",
       "4          21\n",
       "5          22\n",
       "6          34\n",
       "7          38\n",
       "8          41\n",
       "9          42\n",
       "10         45\n",
       "11         55\n",
       "12         63\n",
       "13         67\n",
       "14         71\n",
       "15         78\n",
       "16         80\n",
       "17         87\n",
       "18         96\n",
       "19         98\n",
       "20        103\n",
       "21        106\n",
       "22        107\n",
       "23        112\n",
       "24        116\n",
       "25        118\n",
       "26        119\n",
       "27        126\n",
       "28        129\n",
       "29        134\n",
       "        ...  \n",
       "6848    33567\n",
       "6849    33570\n",
       "6850    33571\n",
       "6851    33572\n",
       "6852    33573\n",
       "6853    33576\n",
       "6854    33577\n",
       "6855    33578\n",
       "6856    33579\n",
       "6857    33580\n",
       "6858    33584\n",
       "6859    33596\n",
       "6860    33597\n",
       "6861    33600\n",
       "6862    33610\n",
       "6863    33613\n",
       "6864    33616\n",
       "6865    33617\n",
       "6866    33623\n",
       "6867    33627\n",
       "6868    33630\n",
       "6869    33631\n",
       "6870    33633\n",
       "6871    33639\n",
       "6872    33648\n",
       "6873    33652\n",
       "6874    33654\n",
       "6875    33661\n",
       "6876    33662\n",
       "6877    33668\n",
       "Name: id, dtype: int64"
      ]
     },
     "execution_count": 12,
     "metadata": {},
     "output_type": "execute_result"
    }
   ],
   "source": [
    "numpy.c_[data_trai['id'],data_test[]"
   ]
  },
  {
   "cell_type": "code",
   "execution_count": 219,
   "metadata": {
    "collapsed": false,
    "deletable": true,
    "editable": true
   },
   "outputs": [
    {
     "data": {
      "text/plain": [
       "(6878, 105)"
      ]
     },
     "execution_count": 219,
     "metadata": {},
     "output_type": "execute_result"
    }
   ],
   "source": [
    "input_test_matrix.shape"
   ]
  },
  {
   "cell_type": "code",
   "execution_count": 220,
   "metadata": {
    "collapsed": false,
    "deletable": true,
    "editable": true
   },
   "outputs": [
    {
     "data": {
      "text/plain": [
       "'salary'"
      ]
     },
     "execution_count": 220,
     "metadata": {},
     "output_type": "execute_result"
    }
   ],
   "source": [
    "target"
   ]
  },
  {
   "cell_type": "code",
   "execution_count": null,
   "metadata": {
    "collapsed": true,
    "deletable": true,
    "editable": true
   },
   "outputs": [],
   "source": []
  }
 ],
 "metadata": {
  "kernelspec": {
   "display_name": "Python 2",
   "language": "python",
   "name": "python2"
  },
  "language_info": {
   "codemirror_mode": {
    "name": "ipython",
    "version": 2
   },
   "file_extension": ".py",
   "mimetype": "text/x-python",
   "name": "python",
   "nbconvert_exporter": "python",
   "pygments_lexer": "ipython2",
   "version": "2.7.12"
  }
 },
 "nbformat": 4,
 "nbformat_minor": 2
}
