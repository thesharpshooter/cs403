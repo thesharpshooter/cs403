{
 "cells": [
  {
   "cell_type": "code",
   "execution_count": 81,
   "metadata": {
    "collapsed": false
   },
   "outputs": [],
   "source": [
    "import numpy as np\n",
    "import pandas as pd\n",
    "from random import random\n",
    "from math import exp\n",
    "from random import seed"
   ]
  },
  {
   "cell_type": "code",
   "execution_count": 82,
   "metadata": {
    "collapsed": false
   },
   "outputs": [],
   "source": [
    "data = pd.read_csv('data/seeds_dataset.txt',header=None,sep=' ')"
   ]
  },
  {
   "cell_type": "code",
   "execution_count": 83,
   "metadata": {
    "collapsed": false
   },
   "outputs": [
    {
     "data": {
      "text/html": [
       "<div>\n",
       "<table border=\"1\" class=\"dataframe\">\n",
       "  <thead>\n",
       "    <tr style=\"text-align: right;\">\n",
       "      <th></th>\n",
       "      <th>0</th>\n",
       "    </tr>\n",
       "  </thead>\n",
       "  <tbody>\n",
       "    <tr>\n",
       "      <th>0</th>\n",
       "      <td>15.26\\t14.84\\t0.871\\t5.763\\t3.312\\t2.221\\t5.22\\t1</td>\n",
       "    </tr>\n",
       "    <tr>\n",
       "      <th>1</th>\n",
       "      <td>14.88\\t14.57\\t0.8811\\t5.554\\t3.333\\t1.018\\t4.9...</td>\n",
       "    </tr>\n",
       "    <tr>\n",
       "      <th>2</th>\n",
       "      <td>14.29\\t14.09\\t0.905\\t5.291\\t3.337\\t2.699\\t4.82...</td>\n",
       "    </tr>\n",
       "    <tr>\n",
       "      <th>3</th>\n",
       "      <td>13.84\\t13.94\\t0.8955\\t5.324\\t3.379\\t2.259\\t4.8...</td>\n",
       "    </tr>\n",
       "    <tr>\n",
       "      <th>4</th>\n",
       "      <td>16.14\\t14.99\\t0.9034\\t5.658\\t3.562\\t1.355\\t5.1...</td>\n",
       "    </tr>\n",
       "  </tbody>\n",
       "</table>\n",
       "</div>"
      ],
      "text/plain": [
       "                                                   0\n",
       "0  15.26\\t14.84\\t0.871\\t5.763\\t3.312\\t2.221\\t5.22\\t1\n",
       "1  14.88\\t14.57\\t0.8811\\t5.554\\t3.333\\t1.018\\t4.9...\n",
       "2  14.29\\t14.09\\t0.905\\t5.291\\t3.337\\t2.699\\t4.82...\n",
       "3  13.84\\t13.94\\t0.8955\\t5.324\\t3.379\\t2.259\\t4.8...\n",
       "4  16.14\\t14.99\\t0.9034\\t5.658\\t3.562\\t1.355\\t5.1..."
      ]
     },
     "execution_count": 83,
     "metadata": {},
     "output_type": "execute_result"
    }
   ],
   "source": [
    "data.head(5)"
   ]
  },
  {
   "cell_type": "markdown",
   "metadata": {},
   "source": [
    "# Initialize the network"
   ]
  },
  {
   "cell_type": "code",
   "execution_count": 84,
   "metadata": {
    "collapsed": true
   },
   "outputs": [],
   "source": [
    "def initialize_network(n_inputs, n_hidden,n_outputs):\n",
    "    network = list()\n",
    "    hidden_layer = [{'weights':[random() for i in range(n_inputs + 1)]} for i in range(n_hidden)]\n",
    "    network.append(hidden_layer)\n",
    "    output_layer = [{'weights':[random() for i in range(n_hidden + 1)]} for i in range(n_outputs)]\n",
    "    network.append(output_layer)\n",
    "    return network"
   ]
  },
  {
   "cell_type": "code",
   "execution_count": 85,
   "metadata": {
    "collapsed": false
   },
   "outputs": [],
   "source": [
    "#test network\n",
    "#network = initialize_network(2,1,2)\n",
    "#for layer in network:\n",
    "#    print layer"
   ]
  },
  {
   "cell_type": "markdown",
   "metadata": {},
   "source": [
    "# Activation of neurons"
   ]
  },
  {
   "cell_type": "code",
   "execution_count": 86,
   "metadata": {
    "collapsed": true
   },
   "outputs": [],
   "source": [
    "def activate(weights,inputs):\n",
    "    activation = weights[-1]\n",
    "    for i in range(len(weights)-1):\n",
    "        activation += weights[i]*inputs[i]\n",
    "    return activation"
   ]
  },
  {
   "cell_type": "markdown",
   "metadata": {},
   "source": [
    "# Transfer neuron activation"
   ]
  },
  {
   "cell_type": "code",
   "execution_count": 87,
   "metadata": {
    "collapsed": true
   },
   "outputs": [],
   "source": [
    "def transfer(activation):\n",
    "    return 1.0/(1.0 + math.exp(-activation))"
   ]
  },
  {
   "cell_type": "markdown",
   "metadata": {},
   "source": [
    "# Forward propagation"
   ]
  },
  {
   "cell_type": "code",
   "execution_count": 88,
   "metadata": {
    "collapsed": false
   },
   "outputs": [],
   "source": [
    "def forward_propagate(network,row):\n",
    "    inputs = row\n",
    "    for layer in network:\n",
    "        new_inputs = []\n",
    "        for neuron in layer:\n",
    "            activation = activate(neuron['weights'],inputs)\n",
    "            neuron['output'] = transfer(activation)\n",
    "            new_inputs.append(neuron['output'])\n",
    "        inputs = new_inputs\n",
    "    return inputs"
   ]
  },
  {
   "cell_type": "code",
   "execution_count": 89,
   "metadata": {
    "collapsed": false
   },
   "outputs": [],
   "source": [
    "# Testing forward propagation\n",
    "#network = initialize_network(2,1,2)\n",
    "#row = [1,0,None]     // Last one is the dummy input(bias 1)\n",
    "#output = forward_propagate(network,row)"
   ]
  },
  {
   "cell_type": "markdown",
   "metadata": {},
   "source": [
    "# Back propagation"
   ]
  },
  {
   "cell_type": "code",
   "execution_count": 90,
   "metadata": {
    "collapsed": true
   },
   "outputs": [],
   "source": [
    "def transfer_derivative(output):\n",
    "    return output*(1-output)"
   ]
  },
  {
   "cell_type": "code",
   "execution_count": 91,
   "metadata": {
    "collapsed": true
   },
   "outputs": [],
   "source": [
    "def back_propagate_error(network,expected):\n",
    "    for i in reversed(range(len(network))):\n",
    "        layer = network[i]\n",
    "        errors = list()\n",
    "        if i != len(network)-1:\n",
    "            for j in range(len(layer)):\n",
    "                error = 0.0\n",
    "                for neuron in network[i+1]:\n",
    "                    error += (neuron['weights'][j]*neuron['delta'])\n",
    "                errors.append(error)\n",
    "        else:\n",
    "            for j in range(len(layer)):\n",
    "                neuron = layer[j]\n",
    "                errors.append(expected[j]-neuron['output'])\n",
    "        for j in range(len(layer)):\n",
    "            neuron = layer[j]\n",
    "            neuron['delta'] = errors[j]*transfer_derivative(neuron['output'])"
   ]
  },
  {
   "cell_type": "code",
   "execution_count": 92,
   "metadata": {
    "collapsed": false
   },
   "outputs": [],
   "source": [
    "# Testing backpropagation\n",
    "#expected = [0,1]\n",
    "#back_propagate_error(network,expected)"
   ]
  },
  {
   "cell_type": "code",
   "execution_count": 93,
   "metadata": {
    "collapsed": false
   },
   "outputs": [],
   "source": [
    "#for layer in network:\n",
    "#    print layer"
   ]
  },
  {
   "cell_type": "markdown",
   "metadata": {},
   "source": [
    "# Updating network weights after getting errors"
   ]
  },
  {
   "cell_type": "code",
   "execution_count": 94,
   "metadata": {
    "collapsed": true
   },
   "outputs": [],
   "source": [
    "def update_weights(network,row,l_rate): #l_rate:learining rate\n",
    "    for i in range(len(network)):\n",
    "        inputs = row[:-1]\n",
    "        if i != 0:\n",
    "            inputs = [neuron['output'] for neuron in network[i-1]]\n",
    "        for neuron in network[i]:\n",
    "            for j in range(len(inputs)):\n",
    "                neuron['weights'][j] += l_rate*neuron['delta']*inputs[j]\n",
    "            neuron['weights'][-1] += l_rate*neuron['delta']"
   ]
  },
  {
   "cell_type": "markdown",
   "metadata": {},
   "source": [
    "# Training network"
   ]
  },
  {
   "cell_type": "code",
   "execution_count": 95,
   "metadata": {
    "collapsed": true
   },
   "outputs": [],
   "source": [
    "def train_network(network,train,l_rate,n_epoch,n_outputs):\n",
    "    for epoch in range(n_epoch):\n",
    "        sum_error = 0\n",
    "        for row in train:\n",
    "            outputs = forward_propagate(network,row)\n",
    "            expected = [0 for i in range(n_outputs)]\n",
    "            expected[row[-1]] = 1\n",
    "            sum_error += sum([(expected[i]-outputs[i])**2 for i in range(len(expected))])\n",
    "            back_propagate_error(network,expected)\n",
    "            update_weights(network,row,l_rate)\n",
    "        print \"Iteration : \",epoch,\", Learning rate : \",l_rate,\", Sum of errors : \",sum_error\n",
    "    "
   ]
  },
  {
   "cell_type": "code",
   "execution_count": 96,
   "metadata": {
    "collapsed": false
   },
   "outputs": [
    {
     "name": "stdout",
     "output_type": "stream",
     "text": [
      "Iteration :  0 , Learning rate :  0.5 , Sum of errors :  6.35012662902\n",
      "Iteration :  1 , Learning rate :  0.5 , Sum of errors :  5.53148430656\n",
      "Iteration :  2 , Learning rate :  0.5 , Sum of errors :  5.22116507016\n",
      "Iteration :  3 , Learning rate :  0.5 , Sum of errors :  4.9513841342\n",
      "Iteration :  4 , Learning rate :  0.5 , Sum of errors :  4.51894354301\n",
      "Iteration :  5 , Learning rate :  0.5 , Sum of errors :  4.17304061768\n",
      "Iteration :  6 , Learning rate :  0.5 , Sum of errors :  3.83493643241\n",
      "Iteration :  7 , Learning rate :  0.5 , Sum of errors :  3.5057278939\n",
      "Iteration :  8 , Learning rate :  0.5 , Sum of errors :  3.19211953585\n",
      "Iteration :  9 , Learning rate :  0.5 , Sum of errors :  2.89766994075\n",
      "Iteration :  10 , Learning rate :  0.5 , Sum of errors :  2.62554309287\n",
      "Iteration :  11 , Learning rate :  0.5 , Sum of errors :  2.3774366973\n",
      "Iteration :  12 , Learning rate :  0.5 , Sum of errors :  2.15347622324\n",
      "Iteration :  13 , Learning rate :  0.5 , Sum of errors :  1.95270167724\n",
      "Iteration :  14 , Learning rate :  0.5 , Sum of errors :  1.7735187848\n",
      "Iteration :  15 , Learning rate :  0.5 , Sum of errors :  1.61400524229\n",
      "Iteration :  16 , Learning rate :  0.5 , Sum of errors :  1.47211243699\n",
      "Iteration :  17 , Learning rate :  0.5 , Sum of errors :  1.34580396026\n",
      "Iteration :  18 , Learning rate :  0.5 , Sum of errors :  1.23315343016\n",
      "Iteration :  19 , Learning rate :  0.5 , Sum of errors :  1.13241030215\n"
     ]
    }
   ],
   "source": [
    "seed(1)\n",
    "dataset = [[2.7810836,2.550537003,0],\n",
    "\t[1.465489372,2.362125076,0],\n",
    "\t[3.396561688,4.400293529,0],\n",
    "\t[1.38807019,1.850220317,0],\n",
    "\t[3.06407232,3.005305973,0],\n",
    "\t[7.627531214,2.759262235,1],\n",
    "\t[5.332441248,2.088626775,1],\n",
    "\t[6.922596716,1.77106367,1],\n",
    "\t[8.675418651,-0.242068655,1],\n",
    "\t[7.673756466,3.508563011,1]]\n",
    "n_inputs = len(dataset[0])-1\n",
    "n_outputs = len(set([row[-1] for row in dataset]))\n",
    "network = initialize_network(n_inputs,2,n_outputs)\n",
    "train_network(network,dataset,0.5,20,n_outputs)\n"
   ]
  },
  {
   "cell_type": "code",
   "execution_count": 98,
   "metadata": {
    "collapsed": false
   },
   "outputs": [
    {
     "name": "stdout",
     "output_type": "stream",
     "text": [
      "[{'output': 0.029980305604426185, 'weights': [-1.4688375095432327, 1.850887325439514, 1.0858178629550297], 'delta': -0.0059546604162323625}, {'output': 0.9456229000211323, 'weights': [0.37711098142462157, -0.0625909894552989, 0.2765123702642716], 'delta': 0.0026279652850863837}]\n",
      "\n",
      "[{'output': 0.23648794202357587, 'weights': [2.515394649397849, -0.3391927502445985, -0.9671565426390275], 'delta': -0.04270059278364587}, {'output': 0.7790535202438367, 'weights': [-2.5584149848484263, 1.0036422106209202, 0.42383086467582715], 'delta': 0.03803132596437354}]\n",
      "\n"
     ]
    }
   ],
   "source": [
    "for layer in network:\n",
    "    print layer\n",
    "    print \"\""
   ]
  },
  {
   "cell_type": "markdown",
   "metadata": {},
   "source": [
    "# prediction"
   ]
  },
  {
   "cell_type": "code",
   "execution_count": 101,
   "metadata": {
    "collapsed": true
   },
   "outputs": [],
   "source": [
    "def predict(network,row):\n",
    "    outputs = forward_propagate(network,row)\n",
    "    return outputs.index(max(outputs))"
   ]
  },
  {
   "cell_type": "code",
   "execution_count": 102,
   "metadata": {
    "collapsed": false
   },
   "outputs": [
    {
     "name": "stdout",
     "output_type": "stream",
     "text": [
      "Expected :  0 , Got :  0\n",
      "Expected :  0 , Got :  0\n",
      "Expected :  0 , Got :  0\n",
      "Expected :  0 , Got :  0\n",
      "Expected :  0 , Got :  0\n",
      "Expected :  1 , Got :  1\n",
      "Expected :  1 , Got :  1\n",
      "Expected :  1 , Got :  1\n",
      "Expected :  1 , Got :  1\n",
      "Expected :  1 , Got :  1\n"
     ]
    }
   ],
   "source": [
    "for row in dataset:\n",
    "    prediction = predict(network,row)\n",
    "    print \"Expected : \",row[-1], \", Got : \",prediction"
   ]
  },
  {
   "cell_type": "markdown",
   "metadata": {},
   "source": [
    "# Binding things together"
   ]
  },
  {
   "cell_type": "code",
   "execution_count": null,
   "metadata": {
    "collapsed": true
   },
   "outputs": [],
   "source": [
    "def back_propagation(train,test,l_rate,n_epoch,n_hidden):\n",
    "    n_inputs = len(train[0])-1\n",
    "    n_outputs = len(set([row[-1] for row in train]))\n",
    "    network = initialize_network(n_inputs,n_hidden,n_outputs)\n",
    "    train_network(network,train,l_rate,n_epoch,n_outputs)\n",
    "    prediction = list()\n",
    "    for row in test:\n",
    "        prediction = predict(network,row)\n",
    "        prediction.append(prediction)\n",
    "    return prediction\n"
   ]
  }
 ],
 "metadata": {
  "kernelspec": {
   "display_name": "Python 2",
   "language": "python",
   "name": "python2"
  },
  "language_info": {
   "codemirror_mode": {
    "name": "ipython",
    "version": 2
   },
   "file_extension": ".py",
   "mimetype": "text/x-python",
   "name": "python",
   "nbconvert_exporter": "python",
   "pygments_lexer": "ipython2",
   "version": "2.7.12"
  }
 },
 "nbformat": 4,
 "nbformat_minor": 2
}
